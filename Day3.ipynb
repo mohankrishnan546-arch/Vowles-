{
  "nbformat": 4,
  "nbformat_minor": 0,
  "metadata": {
    "colab": {
      "provenance": [],
      "authorship_tag": "ABX9TyPH+wHCtlw8KxY08ayzDVvH",
      "include_colab_link": true
    },
    "kernelspec": {
      "name": "python3",
      "display_name": "Python 3"
    },
    "language_info": {
      "name": "python"
    }
  },
  "cells": [
    {
      "cell_type": "markdown",
      "metadata": {
        "id": "view-in-github",
        "colab_type": "text"
      },
      "source": [
        "<a href=\"https://colab.research.google.com/github/mohankrishnan546-arch/Vowles-/blob/main/Day3.ipynb\" target=\"_parent\"><img src=\"https://colab.research.google.com/assets/colab-badge.svg\" alt=\"Open In Colab\"/></a>"
      ]
    },
    {
      "cell_type": "code",
      "execution_count": null,
      "metadata": {
        "colab": {
          "base_uri": "https://localhost:8080/"
        },
        "id": "sOFbfIlAhtCM",
        "outputId": "b7f1e9ac-35ac-420e-972b-5fad8dc38ed7"
      },
      "outputs": [
        {
          "output_type": "stream",
          "name": "stdout",
          "text": [
            "e\n",
            "5.9\n",
            "a\n",
            "0.6\n"
          ]
        }
      ],
      "source": [
        "List1=['a','b','c','d','e']\n",
        "List2=[1,2,3,4.3,5.9,0.6]\n",
        "print(max(List1))\n",
        "print(max(List2))\n",
        "print(min(List1))\n",
        "print(min(List2))"
      ]
    },
    {
      "cell_type": "code",
      "source": [
        "List1=['a','b','c','d','e']\n",
        "List2=[1,2,3,4.3,5.9,0.6]\n",
        "List2.insert(4,67)\n",
        "List1.insert(4,'j')\n",
        "print(List1)\n",
        "print(List2)\n",
        "List1.pop(5)\n",
        "List2.pop()\n",
        "print(List1)\n",
        "print(List2)"
      ],
      "metadata": {
        "colab": {
          "base_uri": "https://localhost:8080/"
        },
        "id": "hKLNOaRDnp_u",
        "outputId": "68771c1f-c665-4894-a9b4-a699c4b18647"
      },
      "execution_count": null,
      "outputs": [
        {
          "output_type": "stream",
          "name": "stdout",
          "text": [
            "['a', 'b', 'c', 'd', 'j', 'e']\n",
            "[1, 2, 3, 4.3, 67, 5.9, 0.6]\n",
            "['a', 'b', 'c', 'd', 'j']\n",
            "[1, 2, 3, 4.3, 67, 5.9]\n"
          ]
        }
      ]
    },
    {
      "cell_type": "code",
      "metadata": {
        "colab": {
          "base_uri": "https://localhost:8080/"
        },
        "id": "be932d55",
        "outputId": "d10a8f6f-2d30-4552-abc1-61ee3a367796"
      },
      "source": [
        "List1=['a','b','c','d','e']\n",
        "List2=[1,2,3,4.3,5.9,0.6]\n",
        "List1.remove('c')\n",
        "List2.remove(4.3)\n",
        "print(List1)\n",
        "print(List2)\n",
        "print(List1+List2)"
      ],
      "execution_count": null,
      "outputs": [
        {
          "output_type": "stream",
          "name": "stdout",
          "text": [
            "['a', 'b', 'd', 'e']\n",
            "[1, 2, 3, 5.9, 0.6]\n",
            "['a', 'b', 'd', 'e', 1, 2, 3, 5.9, 0.6]\n"
          ]
        }
      ]
    },
    {
      "cell_type": "code",
      "source": [
        "\n",
        "fruits = [\"apple\", \"banana\", \"cherry\", \"apple\", \"mango\"]\n",
        "print(\"Original List:\", fruits)\n",
        "apple_count = fruits.count(\"apple\")\n",
        "print(\"Number of 'apple':\", apple_count)\n",
        "length = len(fruits)\n",
        "print(\"Length of list:\", length)\n",
        "fruits.reverse()\n",
        "print(\"Reversed List:\", fruits)\n",
        "fruits_copy = fruits.copy()\n",
        "print(\"Copied List:\", fruits_copy)"
      ],
      "metadata": {
        "colab": {
          "base_uri": "https://localhost:8080/"
        },
        "id": "gUPJE3mNtPOq",
        "outputId": "af771db3-d9ec-4ffc-cc13-66f57ceab33d"
      },
      "execution_count": null,
      "outputs": [
        {
          "output_type": "stream",
          "name": "stdout",
          "text": [
            "Original List: ['apple', 'banana', 'cherry', 'apple', 'mango']\n",
            "Number of 'apple': 2\n",
            "Length of list: 5\n",
            "Reversed List: ['mango', 'apple', 'cherry', 'banana', 'apple']\n",
            "Copied List: ['mango', 'apple', 'cherry', 'banana', 'apple']\n"
          ]
        }
      ]
    },
    {
      "cell_type": "code",
      "source": [],
      "metadata": {
        "id": "k96AhFofyShU"
      },
      "execution_count": null,
      "outputs": []
    },
    {
      "cell_type": "code",
      "source": [
        "List1=['a','b','c','d','e']\n",
        "List2=[1,2,3,4.3,5.9,0.6]\n",
        "List1.extend(List2)\n",
        "print(List1)"
      ],
      "metadata": {
        "colab": {
          "base_uri": "https://localhost:8080/"
        },
        "id": "R6bnHa0jnrGr",
        "outputId": "f750d82d-0966-4fc8-a3c0-ac4a01c08576"
      },
      "execution_count": null,
      "outputs": [
        {
          "output_type": "stream",
          "name": "stdout",
          "text": [
            "['a', 'b', 'c', 'd', 'e', 1, 2, 3, 4.3, 5.9, 0.6]\n"
          ]
        }
      ]
    }
  ]
}