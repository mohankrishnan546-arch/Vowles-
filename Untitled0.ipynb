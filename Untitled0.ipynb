{
  "nbformat": 4,
  "nbformat_minor": 0,
  "metadata": {
    "colab": {
      "provenance": [],
      "authorship_tag": "ABX9TyOGwzUpdv3TX0zTJtlcoKQc",
      "include_colab_link": true
    },
    "kernelspec": {
      "name": "python3",
      "display_name": "Python 3"
    },
    "language_info": {
      "name": "python"
    }
  },
  "cells": [
    {
      "cell_type": "markdown",
      "metadata": {
        "id": "view-in-github",
        "colab_type": "text"
      },
      "source": [
        "<a href=\"https://colab.research.google.com/github/mohankrishnan546-arch/Vowles-/blob/main/Untitled0.ipynb\" target=\"_parent\"><img src=\"https://colab.research.google.com/assets/colab-badge.svg\" alt=\"Open In Colab\"/></a>"
      ]
    },
    {
      "cell_type": "code",
      "execution_count": null,
      "metadata": {
        "colab": {
          "base_uri": "https://localhost:8080/"
        },
        "id": "2yIk4rmMR1jO",
        "outputId": "7dd4d33b-5503-4726-c562-b26890f13400"
      },
      "outputs": [
        {
          "output_type": "stream",
          "name": "stdout",
          "text": [
            "🤖 Welcome to TechnoEce Chatbot (ECE Helper)!\n",
            "Type 'exit' to quit.\n",
            "\n",
            "You: Student \n",
            "🤖 TechnoEce: I can help with ICs, components, project ideas, and e-books.\n",
            "You: Give me some project ideas\n",
            "\n",
            "📌 Smart Door Lock needs: NodeMCU ESP8266, Servo Motor, RFID Module, Arduino IDE\n",
            "\n",
            "📌 Line Follower Robot needs: IR Sensors, L293D Motor Driver, DC Motors, Arduino Uno\n",
            "\n",
            "📌 IoT Weather Station needs: DHT11 Sensor, ESP32/ESP8266, Cloud Server, ThingSpeak/MQTT\n",
            "You: High scale level project \n",
            "\n",
            "📌 Smart Door Lock needs: NodeMCU ESP8266, Servo Motor, RFID Module, Arduino IDE\n",
            "\n",
            "📌 Line Follower Robot needs: IR Sensors, L293D Motor Driver, DC Motors, Arduino Uno\n",
            "\n",
            "📌 IoT Weather Station needs: DHT11 Sensor, ESP32/ESP8266, Cloud Server, ThingSpeak/MQTT\n"
          ]
        }
      ],
      "source": [
        "import random\n",
        "\n",
        "# Sample database (can be expanded)\n",
        "ics_data = {\n",
        "    \"555\": {\"name\": \"Timer IC\", \"image\": \"555_timer.jpg\"},\n",
        "    \"7400\": {\"name\": \"NAND Gate IC\", \"image\": \"7400_nand.jpg\"},\n",
        "    \"7805\": {\"name\": \"Voltage Regulator\", \"image\": \"7805_regulator.jpg\"},\n",
        "}\n",
        "\n",
        "components_for_projects = {\n",
        "    \"Smart Door Lock\": [\"NodeMCU ESP8266\", \"Servo Motor\", \"RFID Module\", \"Arduino IDE\"],\n",
        "    \"Line Follower Robot\": [\"IR Sensors\", \"L293D Motor Driver\", \"DC Motors\", \"Arduino Uno\"],\n",
        "    \"IoT Weather Station\": [\"DHT11 Sensor\", \"ESP32/ESP8266\", \"Cloud Server\", \"ThingSpeak/MQTT\"]\n",
        "}\n",
        "\n",
        "ece_project_ideas = [\n",
        "    \"Automatic Street Light System\",\n",
        "    \"IoT-based Smart Agriculture\",\n",
        "    \"Gesture Controlled Robot\",\n",
        "    \"Wireless Power Transfer\",\n",
        "    \"Smart Energy Meter with GSM\"\n",
        "]\n",
        "\n",
        "ebooks = {\n",
        "    \"Semester 1\": [\"Basic Electrical Engineering.pdf\", \"Engineering Mathematics.pdf\"],\n",
        "    \"Semester 3\": [\"Analog Electronics.pdf\", \"Signals & Systems.pdf\"],\n",
        "    \"Semester 5\": [\"Microprocessors.pdf\", \"Digital Communication.pdf\"],\n",
        "    \"Technical\": [\"VLSI Design.pdf\", \"Embedded Systems.pdf\"]\n",
        "}\n",
        "\n",
        "\n",
        "# Chatbot function\n",
        "def technoece_chatbot():\n",
        "    print(\"🤖 Welcome to TechnoEce Chatbot (ECE Helper)!\")\n",
        "    print(\"Type 'exit' to quit.\\n\")\n",
        "\n",
        "    while True:\n",
        "        user_input = input(\"You: \").lower()\n",
        "\n",
        "        if user_input == \"exit\":\n",
        "            print(\"🤖 TechnoEce: Goodbye! Keep learning ECE 🚀\")\n",
        "            break\n",
        "\n",
        "        # IC search\n",
        "        elif \"ic\" in user_input:\n",
        "            ic_number = user_input.split()[-1]\n",
        "            if ic_number in ics_data:\n",
        "                ic = ics_data[ic_number]\n",
        "                print(f\"🤖 TechnoEce: IC {ic_number} is {ic['name']} (Image: {ic['image']})\")\n",
        "            else:\n",
        "                print(\"🤖 TechnoEce: Sorry, I don't have data for that IC.\")\n",
        "\n",
        "        # Components for project\n",
        "        elif \"components\" in user_input or \"project\" in user_input:\n",
        "            for proj, comp in components_for_projects.items():\n",
        "                print(f\"\\n📌 {proj} needs: {', '.join(comp)}\")\n",
        "\n",
        "        # ECE project ideas\n",
        "        elif \"idea\" in user_input:\n",
        "            idea = random.choice(ece_project_ideas)\n",
        "            print(f\"💡 TechnoEce Suggestion: {idea}\")\n",
        "\n",
        "        # E-books\n",
        "        elif \"ebook\" in user_input or \"book\" in user_input:\n",
        "            for sem, books in ebooks.items():\n",
        "                print(f\"\\n📚 {sem} E-Books: {', '.join(books)}\")\n",
        "\n",
        "        else:\n",
        "            print(\"🤖 TechnoEce: I can help with ICs, components, project ideas, and e-books.\")\n",
        "\n",
        "\n",
        "# Run chatbot\n",
        "if __name__ == \"__main__\":\n",
        "    technoece_chatbot()"
      ]
    }
  ]
}